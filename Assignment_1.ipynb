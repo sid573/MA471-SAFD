{
  "nbformat": 4,
  "nbformat_minor": 0,
  "metadata": {
    "colab": {
      "name": "Assignment1MA471.ipynb",
      "provenance": [],
      "collapsed_sections": [],
      "include_colab_link": true
    },
    "kernelspec": {
      "name": "python3",
      "display_name": "Python 3"
    }
  },
  "cells": [
    {
      "cell_type": "markdown",
      "metadata": {
        "id": "view-in-github",
        "colab_type": "text"
      },
      "source": [
        "<a href=\"https://colab.research.google.com/github/sid573/MA471-SAFD/blob/master/Assignment1MA471.ipynb\" target=\"_parent\"><img src=\"https://colab.research.google.com/assets/colab-badge.svg\" alt=\"Open In Colab\"/></a>"
      ]
    },
    {
      "cell_type": "code",
      "metadata": {
        "id": "nR0o36RrlH9n",
        "colab_type": "code",
        "colab": {
          "base_uri": "https://localhost:8080/",
          "height": 121
        },
        "outputId": "8d70fd7f-4a87-4bc6-8feb-e88cb6338aa2"
      },
      "source": [
        "import numpy as np\n",
        "\n",
        "\n",
        "val = np.array([100,200,1000])\n",
        "\n",
        "p = np.array([0.4,0.3,0.2,0.1])\n",
        "\n",
        "cs = np.cumsum(p)\n",
        "\n",
        "n = 10\n",
        "\n",
        "Ex = p*10\n",
        "\n",
        "for i in val:\n",
        "\n",
        "  Gx = np.zeros(len(p))\n",
        "\n",
        "  for j in range(i):\n",
        "\n",
        "    for k in range(n):\n",
        "\n",
        "      u = np.random.uniform()\n",
        "\n",
        "      for l in range(0,len(cs)):\n",
        "\n",
        "        if(u<=cs[l]):\n",
        "\n",
        "          Gx[l] = Gx[l] + 1\n",
        "\n",
        "          break\n",
        "\n",
        "  Gx = Gx/i\n",
        "\n",
        "  print(\"Expected Value = \" , Ex)\n",
        "  print(\"Actual result = \" , Gx)\n",
        "\n",
        "\n",
        "\n"
      ],
      "execution_count": null,
      "outputs": [
        {
          "output_type": "stream",
          "text": [
            "Expected Value =  [4. 3. 2. 1.]\n",
            "Actual result =  [3.98 3.02 2.05 0.95]\n",
            "Expected Value =  [4. 3. 2. 1.]\n",
            "Actual result =  [3.965 3.03  1.925 1.08 ]\n",
            "Expected Value =  [4. 3. 2. 1.]\n",
            "Actual result =  [3.867 3.119 2.009 1.005]\n"
          ],
          "name": "stdout"
        }
      ]
    }
  ]
}